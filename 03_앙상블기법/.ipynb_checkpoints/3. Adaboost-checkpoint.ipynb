{
 "cells": [
  {
   "cell_type": "markdown",
   "id": "525a1dc2",
   "metadata": {},
   "source": [
    "# Adaboost"
   ]
  },
  {
   "cell_type": "code",
   "execution_count": 1,
   "id": "65c36aa5",
   "metadata": {},
   "outputs": [],
   "source": [
    "import os\n",
    "import pandas as pd\n",
    "import numpy as np\n",
    "import time\n",
    "from sklearn.model_selection import train_test_split"
   ]
  },
  {
   "cell_type": "code",
   "execution_count": 2,
   "id": "21bc93fd",
   "metadata": {},
   "outputs": [
    {
     "data": {
      "text/plain": [
       "'C:\\\\Users\\\\Hongjin\\\\Desktop\\\\김다윗\\\\개인\\\\01. 공부\\\\Git\\\\ML_code\\\\03_앙상블기법'"
      ]
     },
     "execution_count": 2,
     "metadata": {},
     "output_type": "execute_result"
    }
   ],
   "source": [
    "# 현재경로 확인\n",
    "os.getcwd()"
   ]
  },
  {
   "cell_type": "markdown",
   "id": "3d9270b8",
   "metadata": {},
   "source": [
    "### Data Load"
   ]
  },
  {
   "cell_type": "code",
   "execution_count": 3,
   "id": "1903d5af",
   "metadata": {},
   "outputs": [
    {
     "data": {
      "text/html": [
       "<div>\n",
       "<style scoped>\n",
       "    .dataframe tbody tr th:only-of-type {\n",
       "        vertical-align: middle;\n",
       "    }\n",
       "\n",
       "    .dataframe tbody tr th {\n",
       "        vertical-align: top;\n",
       "    }\n",
       "\n",
       "    .dataframe thead th {\n",
       "        text-align: right;\n",
       "    }\n",
       "</style>\n",
       "<table border=\"1\" class=\"dataframe\">\n",
       "  <thead>\n",
       "    <tr style=\"text-align: right;\">\n",
       "      <th></th>\n",
       "      <th>id</th>\n",
       "      <th>feat_1</th>\n",
       "      <th>feat_2</th>\n",
       "      <th>feat_3</th>\n",
       "      <th>feat_4</th>\n",
       "      <th>feat_5</th>\n",
       "      <th>feat_6</th>\n",
       "      <th>feat_7</th>\n",
       "      <th>feat_8</th>\n",
       "      <th>feat_9</th>\n",
       "      <th>...</th>\n",
       "      <th>feat_85</th>\n",
       "      <th>feat_86</th>\n",
       "      <th>feat_87</th>\n",
       "      <th>feat_88</th>\n",
       "      <th>feat_89</th>\n",
       "      <th>feat_90</th>\n",
       "      <th>feat_91</th>\n",
       "      <th>feat_92</th>\n",
       "      <th>feat_93</th>\n",
       "      <th>target</th>\n",
       "    </tr>\n",
       "  </thead>\n",
       "  <tbody>\n",
       "    <tr>\n",
       "      <th>0</th>\n",
       "      <td>1</td>\n",
       "      <td>1</td>\n",
       "      <td>0</td>\n",
       "      <td>0</td>\n",
       "      <td>0</td>\n",
       "      <td>0</td>\n",
       "      <td>0</td>\n",
       "      <td>0</td>\n",
       "      <td>0</td>\n",
       "      <td>0</td>\n",
       "      <td>...</td>\n",
       "      <td>1</td>\n",
       "      <td>0</td>\n",
       "      <td>0</td>\n",
       "      <td>0</td>\n",
       "      <td>0</td>\n",
       "      <td>0</td>\n",
       "      <td>0</td>\n",
       "      <td>0</td>\n",
       "      <td>0</td>\n",
       "      <td>Class_1</td>\n",
       "    </tr>\n",
       "    <tr>\n",
       "      <th>1</th>\n",
       "      <td>2</td>\n",
       "      <td>0</td>\n",
       "      <td>0</td>\n",
       "      <td>0</td>\n",
       "      <td>0</td>\n",
       "      <td>0</td>\n",
       "      <td>0</td>\n",
       "      <td>0</td>\n",
       "      <td>1</td>\n",
       "      <td>0</td>\n",
       "      <td>...</td>\n",
       "      <td>0</td>\n",
       "      <td>0</td>\n",
       "      <td>0</td>\n",
       "      <td>0</td>\n",
       "      <td>0</td>\n",
       "      <td>0</td>\n",
       "      <td>0</td>\n",
       "      <td>0</td>\n",
       "      <td>0</td>\n",
       "      <td>Class_1</td>\n",
       "    </tr>\n",
       "    <tr>\n",
       "      <th>2</th>\n",
       "      <td>3</td>\n",
       "      <td>0</td>\n",
       "      <td>0</td>\n",
       "      <td>0</td>\n",
       "      <td>0</td>\n",
       "      <td>0</td>\n",
       "      <td>0</td>\n",
       "      <td>0</td>\n",
       "      <td>1</td>\n",
       "      <td>0</td>\n",
       "      <td>...</td>\n",
       "      <td>0</td>\n",
       "      <td>0</td>\n",
       "      <td>0</td>\n",
       "      <td>0</td>\n",
       "      <td>0</td>\n",
       "      <td>0</td>\n",
       "      <td>0</td>\n",
       "      <td>0</td>\n",
       "      <td>0</td>\n",
       "      <td>Class_1</td>\n",
       "    </tr>\n",
       "    <tr>\n",
       "      <th>3</th>\n",
       "      <td>4</td>\n",
       "      <td>1</td>\n",
       "      <td>0</td>\n",
       "      <td>0</td>\n",
       "      <td>1</td>\n",
       "      <td>6</td>\n",
       "      <td>1</td>\n",
       "      <td>5</td>\n",
       "      <td>0</td>\n",
       "      <td>0</td>\n",
       "      <td>...</td>\n",
       "      <td>0</td>\n",
       "      <td>1</td>\n",
       "      <td>2</td>\n",
       "      <td>0</td>\n",
       "      <td>0</td>\n",
       "      <td>0</td>\n",
       "      <td>0</td>\n",
       "      <td>0</td>\n",
       "      <td>0</td>\n",
       "      <td>Class_1</td>\n",
       "    </tr>\n",
       "    <tr>\n",
       "      <th>4</th>\n",
       "      <td>5</td>\n",
       "      <td>0</td>\n",
       "      <td>0</td>\n",
       "      <td>0</td>\n",
       "      <td>0</td>\n",
       "      <td>0</td>\n",
       "      <td>0</td>\n",
       "      <td>0</td>\n",
       "      <td>0</td>\n",
       "      <td>0</td>\n",
       "      <td>...</td>\n",
       "      <td>1</td>\n",
       "      <td>0</td>\n",
       "      <td>0</td>\n",
       "      <td>0</td>\n",
       "      <td>0</td>\n",
       "      <td>1</td>\n",
       "      <td>0</td>\n",
       "      <td>0</td>\n",
       "      <td>0</td>\n",
       "      <td>Class_1</td>\n",
       "    </tr>\n",
       "  </tbody>\n",
       "</table>\n",
       "<p>5 rows × 95 columns</p>\n",
       "</div>"
      ],
      "text/plain": [
       "   id  feat_1  feat_2  feat_3  feat_4  feat_5  feat_6  feat_7  feat_8  feat_9  \\\n",
       "0   1       1       0       0       0       0       0       0       0       0   \n",
       "1   2       0       0       0       0       0       0       0       1       0   \n",
       "2   3       0       0       0       0       0       0       0       1       0   \n",
       "3   4       1       0       0       1       6       1       5       0       0   \n",
       "4   5       0       0       0       0       0       0       0       0       0   \n",
       "\n",
       "   ...  feat_85  feat_86  feat_87  feat_88  feat_89  feat_90  feat_91  \\\n",
       "0  ...        1        0        0        0        0        0        0   \n",
       "1  ...        0        0        0        0        0        0        0   \n",
       "2  ...        0        0        0        0        0        0        0   \n",
       "3  ...        0        1        2        0        0        0        0   \n",
       "4  ...        1        0        0        0        0        1        0   \n",
       "\n",
       "   feat_92  feat_93   target  \n",
       "0        0        0  Class_1  \n",
       "1        0        0  Class_1  \n",
       "2        0        0  Class_1  \n",
       "3        0        0  Class_1  \n",
       "4        0        0  Class_1  \n",
       "\n",
       "[5 rows x 95 columns]"
      ]
     },
     "execution_count": 3,
     "metadata": {},
     "output_type": "execute_result"
    }
   ],
   "source": [
    "data = pd.read_csv('../00_Data/otto_train.csv')\n",
    "data.head()"
   ]
  },
  {
   "cell_type": "code",
   "execution_count": 4,
   "id": "ffc74ed4",
   "metadata": {},
   "outputs": [
    {
     "data": {
      "text/plain": [
       "'\\nid: 고유 아이디\\nfeat_1 ~ feat_93: 설명변수\\ntarget: 타겟변수 (1~9)\\n'"
      ]
     },
     "execution_count": 4,
     "metadata": {},
     "output_type": "execute_result"
    }
   ],
   "source": [
    "'''\n",
    "id: 고유 아이디\n",
    "feat_1 ~ feat_93: 설명변수\n",
    "target: 타겟변수 (1~9)\n",
    "'''"
   ]
  },
  {
   "cell_type": "code",
   "execution_count": 5,
   "id": "43036f37",
   "metadata": {},
   "outputs": [
    {
     "name": "stdout",
     "output_type": "stream",
     "text": [
      "nCar: 61878 nVar: 95\n"
     ]
    }
   ],
   "source": [
    "nCar = data.shape[0] # 데이터 개수\n",
    "nVar = data.shape[1] # 변수 개수\n",
    "print('nCar: %d' % nCar, 'nVar: %d' % nVar )"
   ]
  },
  {
   "cell_type": "markdown",
   "id": "cf8229ec",
   "metadata": {},
   "source": [
    "### 의미없는 변수 제거"
   ]
  },
  {
   "cell_type": "code",
   "execution_count": 6,
   "id": "e0f48ad4",
   "metadata": {},
   "outputs": [],
   "source": [
    "data = data.drop(['id'], axis=1)"
   ]
  },
  {
   "cell_type": "markdown",
   "id": "857b399f",
   "metadata": {},
   "source": [
    "### 타겟변수 카테고리화"
   ]
  },
  {
   "cell_type": "code",
   "execution_count": 7,
   "id": "bd2484be",
   "metadata": {},
   "outputs": [],
   "source": [
    "mapping_dict = {'Class_1':1,\n",
    "                'Class_2':2,\n",
    "                'Class_3':3,\n",
    "                'Class_4':4,\n",
    "                'Class_5':5,\n",
    "                'Class_6':6,\n",
    "                'Class_7':7,\n",
    "                'Class_8':8,\n",
    "                'Class_9':9,}\n",
    "\n",
    "after_mapping_target = data['target'].apply(lambda x:mapping_dict[x])"
   ]
  },
  {
   "cell_type": "code",
   "execution_count": 8,
   "id": "fbc35678",
   "metadata": {},
   "outputs": [
    {
     "data": {
      "text/plain": [
       "0    1\n",
       "1    1\n",
       "2    1\n",
       "3    1\n",
       "4    1\n",
       "Name: target, dtype: int64"
      ]
     },
     "execution_count": 8,
     "metadata": {},
     "output_type": "execute_result"
    }
   ],
   "source": [
    "after_mapping_target[:5]"
   ]
  },
  {
   "cell_type": "markdown",
   "id": "85825543",
   "metadata": {},
   "source": [
    "### 학습 및 평가 데이터"
   ]
  },
  {
   "cell_type": "code",
   "execution_count": 9,
   "id": "ba6a296f",
   "metadata": {},
   "outputs": [
    {
     "name": "stdout",
     "output_type": "stream",
     "text": [
      "(49502, 93) (12376, 93) (49502,) (12376,)\n"
     ]
    }
   ],
   "source": [
    "feature_columns = list(data.columns.difference(['target']))\n",
    "X = data[feature_columns]\n",
    "y = after_mapping_target\n",
    "train_x, test_x, train_y, test_y = train_test_split(X, y, test_size = 0.2, random_state = 42) # 학습데이터와 평가데이터의 비율을 8:2 로 분할| \n",
    "print(train_x.shape, test_x.shape, train_y.shape, test_y.shape) # 데이터 개수 확인"
   ]
  },
  {
   "cell_type": "markdown",
   "id": "c20425f3",
   "metadata": {},
   "source": [
    "## 에이다부스트"
   ]
  },
  {
   "cell_type": "code",
   "execution_count": 12,
   "id": "be350b45",
   "metadata": {},
   "outputs": [],
   "source": [
    "from sklearn.ensemble import AdaBoostClassifier\n",
    "from sklearn.tree import DecisionTreeClassifier\n",
    "from sklearn.metrics import accuracy_score"
   ]
  },
  {
   "cell_type": "code",
   "execution_count": 15,
   "id": "99052c4e",
   "metadata": {},
   "outputs": [
    {
     "name": "stdout",
     "output_type": "stream",
     "text": [
      "Accuracy: 63.24 %\n"
     ]
    }
   ],
   "source": [
    "tree_model = DecisionTreeClassifier(max_depth=5)\n",
    "Adaboost_model1 = AdaBoostClassifier(base_estimator=tree_model, # 트리모델을 기본으로 추정\n",
    "                                     n_estimators=20, # 추정 횟수\n",
    "                                     random_state=42) # 시드값 고정\n",
    "\n",
    "model1 = Adaboost_model1.fit(train_x, train_y)\n",
    "predict1 = model1.predict(test_x)\n",
    "print(\"Accuracy: %.2f\" % (accuracy_score(test_y, predict1) * 100), \"%\") # 정확도 % 계산"
   ]
  },
  {
   "cell_type": "markdown",
   "id": "88f35cdc",
   "metadata": {},
   "source": [
    "### 추정을 늘려볼까?"
   ]
  },
  {
   "cell_type": "code",
   "execution_count": 16,
   "id": "3383ec26",
   "metadata": {},
   "outputs": [
    {
     "name": "stdout",
     "output_type": "stream",
     "text": [
      "Accuracy: 62.30 %\n"
     ]
    }
   ],
   "source": [
    "tree_model = DecisionTreeClassifier(max_depth=5)\n",
    "Adaboost_model2 = AdaBoostClassifier(base_estimator=tree_model, # 트리모델을 기본으로 추정\n",
    "                                     n_estimators=300, # 추정 횟수\n",
    "                                     random_state=42) # 시드값 고정\n",
    "\n",
    "model2 = Adaboost_model2.fit(train_x, train_y)\n",
    "predict2 = model2.predict(test_x)\n",
    "print(\"Accuracy: %.2f\" % (accuracy_score(test_y, predict2) * 100), \"%\") # 정확도 % 계산"
   ]
  },
  {
   "cell_type": "markdown",
   "id": "2e40ada3",
   "metadata": {},
   "source": [
    "### 깊이를 늘려볼까?"
   ]
  },
  {
   "cell_type": "code",
   "execution_count": 17,
   "id": "4a6eb5cf",
   "metadata": {},
   "outputs": [
    {
     "name": "stdout",
     "output_type": "stream",
     "text": [
      "Accuracy: 78.60 %\n"
     ]
    }
   ],
   "source": [
    "tree_model = DecisionTreeClassifier(max_depth=30)\n",
    "Adaboost_model3 = AdaBoostClassifier(base_estimator=tree_model, # 트리모델을 기본으로 추정\n",
    "                                     n_estimators=20, # 추정 횟수\n",
    "                                     random_state=42) # 시드값 고정\n",
    "\n",
    "model3 = Adaboost_model3.fit(train_x, train_y)\n",
    "predict3 = model3.predict(test_x)\n",
    "print(\"Accuracy: %.2f\" % (accuracy_score(test_y, predict3) * 100), \"%\") # 정확도 % 계산"
   ]
  },
  {
   "cell_type": "markdown",
   "id": "6aa57d52",
   "metadata": {},
   "source": [
    "### 추정과 깊이 모두 늘려보자!"
   ]
  },
  {
   "cell_type": "code",
   "execution_count": null,
   "id": "fe9f6cfd",
   "metadata": {},
   "outputs": [],
   "source": [
    "tree_model = DecisionTreeClassifier(max_depth=30)\n",
    "Adaboost_model4= AdaBoostClassifier(base_estimator=tree_model, # 트리모델을 기본으로 추정\n",
    "                                     n_estimators=1000, # 추정 횟수\n",
    "                                     random_state=42) # 시드값 고정\n",
    "\n",
    "model4 = Adaboost_model4.fit(train_x, train_y)\n",
    "predict4 = model4.predict(test_x)\n",
    "print(\"Accuracy: %.2f\" % (accuracy_score(test_y, predict4) * 100), \"%\") # 정확도 % 계산"
   ]
  },
  {
   "cell_type": "markdown",
   "id": "3b7ea5cb",
   "metadata": {},
   "source": [
    "### 다른 하이퍼파라미터에 대한 정보\n",
    "\n",
    "- https://scikit-learn.org/stable/modules/generated/sklearn.ensemble.AdaBoostClassifier.html"
   ]
  }
 ],
 "metadata": {
  "kernelspec": {
   "display_name": "Python 3 (ipykernel)",
   "language": "python",
   "name": "python3"
  },
  "language_info": {
   "codemirror_mode": {
    "name": "ipython",
    "version": 3
   },
   "file_extension": ".py",
   "mimetype": "text/x-python",
   "name": "python",
   "nbconvert_exporter": "python",
   "pygments_lexer": "ipython3",
   "version": "3.9.7"
  }
 },
 "nbformat": 4,
 "nbformat_minor": 5
}
